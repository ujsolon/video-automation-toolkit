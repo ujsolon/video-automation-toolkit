{
 "cells": [
  {
   "cell_type": "code",
   "execution_count": 5,
   "id": "5d8ae385",
   "metadata": {},
   "outputs": [
    {
     "name": "stdout",
     "output_type": "stream",
     "text": [
      "The metrics:getBatch API allows you to query multiple resources in a single REST request and also allows\n",
      "you better flexibility in terms of mitigating any throttling or performance issues associated with heavy use of\n",
      "the metrics API. Therefore, using the metrics:getBatch API is strongly recommended instead of using the\n",
      "standard metrics API. Thus, metrics:getBatch API usage here allows you to prevent throttling and\n",
      "performance issues when querying multiple resources in a single REST request.\n",
      "\n",
      "VMs vmss-002_1sdf4cc9 and vmss-003_s1187c3h cannot both be spread across multiple Azure regions. All\n",
      "resources in a batch must be in the same subscription and must be hosted within the same Azure region.\n",
      "\n",
      "Both VMs vmss-002_1sdf4cc9 and vmss-003_s1187c3h must be the same resource type. This is because all\n",
      "resources in a batch must be the same virtual machine resource type.\n"
     ]
    }
   ],
   "source": [
    "from PIL import Image\n",
    "from pytesseract import pytesseract\n",
    "\n",
    "# Defining paths to tesseract.exe and the image we would be using\n",
    "path_to_tesseract = r\"C:\\Program Files\\Tesseract-OCR\\tesseract.exe\"\n",
    "image_path = r\"test.jpg\"\n",
    "\n",
    "# Opening the image & storing it in an image object\n",
    "img = Image.open(image_path)\n",
    "\n",
    "# Providing the tesseract executable location to pytesseract library\n",
    "pytesseract.tesseract_cmd = path_to_tesseract\n",
    "\n",
    "# Passing the image object to image_to_string() function\n",
    "# This function will extract the text from the image\n",
    "text = pytesseract.image_to_string(img)\n",
    "\n",
    "# Displaying the extracted text\n",
    "print(text[:-1])"
   ]
  },
  {
   "cell_type": "code",
   "execution_count": 1,
   "id": "92f1ac9e",
   "metadata": {},
   "outputs": [
    {
     "name": "stdout",
     "output_type": "stream",
     "text": [
      "Processing file: a01.jpg\n",
      "Processing file: a02.jpg\n",
      "Processing file: a03.jpg\n",
      "Processing file: a04.jpg\n",
      "Processing file: a05.jpg\n",
      "Processing file: a06.jpg\n",
      "Processing file: a07.jpg\n",
      "Processing file: a08.jpg\n",
      "Processing file: a09.jpg\n",
      "Processing file: a10.jpg\n",
      "Processing file: a11.jpg\n",
      "Processing file: a12.jpg\n",
      "Processing file: a13.jpg\n",
      "Processing file: a14.jpg\n",
      "Processing file: a15-1.jpg\n",
      "Processing file: a15-2.jpg\n",
      "Processing file: a16.jpg\n",
      "Processing file: a17.jpg\n",
      "Processing file: a18-1.jpg\n",
      "Processing file: a18-2.jpg\n",
      "Processing file: a19.jpg\n",
      "Processing file: a20.jpg\n",
      "Processing file: a21.jpg\n",
      "Processing file: a22.jpg\n",
      "Processing file: a23.jpg\n",
      "Processing file: a24.jpg\n",
      "Processing file: a25.jpg\n",
      "Processing file: a26.jpg\n",
      "Processing file: a27.jpg\n",
      "Processing file: a28.jpg\n",
      "Processing file: a29-1.jpg\n",
      "Processing file: a29-2.jpg\n",
      "Processing file: a30-1.jpg\n",
      "Processing file: a30-2.jpg\n",
      "Processing file: a31.jpg\n",
      "Processing file: a32.jpg\n",
      "Processing file: a33-1.jpg\n",
      "Processing file: a33-2.jpg\n",
      "Processing file: a34.jpg\n",
      "Processing file: a35.jpg\n",
      "Processing file: a36.jpg\n",
      "Processing file: a37.jpg\n",
      "Processing file: a38.jpg\n",
      "Processing file: a39-1.jpg\n",
      "Processing file: a39-2.jpg\n",
      "Processing file: a40.jpg\n",
      "Processing file: a41.jpg\n",
      "Processing file: a42.jpg\n",
      "Processing file: a43.jpg\n",
      "Processing file: a44.jpg\n",
      "Processing file: a45.jpg\n",
      "Processing file: a46.jpg\n",
      "Processing file: a47.jpg\n",
      "Processing file: a48.jpg\n",
      "Processing file: a49.jpg\n",
      "Processing file: a50.jpg\n",
      "Processing file: a51.jpg\n",
      "Processing file: a52.jpg\n",
      "Processing file: a53.jpg\n",
      "Processing file: a54.jpg\n"
     ]
    }
   ],
   "source": [
    "from PIL import Image\n",
    "from pytesseract import pytesseract\n",
    "import os\n",
    "\n",
    "pytesseract.tesseract_cmd = r'C:\\Program Files\\Tesseract-OCR\\tesseract.exe'\n",
    "\n",
    "# Defining paths to tesseract.exe and the image we would be using\n",
    "path_to_tesseract = r\"C:\\Program Files\\Tesseract-OCR\\tesseract.exe\"\n",
    "\n",
    "\n",
    "folder_path = 'az104'\n",
    "output_file = 'extracted_texts.txt'\n",
    "\n",
    "results = []\n",
    "for filename in os.listdir(folder_path):\n",
    "    print(f\"Processing file: {filename}\")\n",
    "    if filename.lower().endswith(('.png', '.jpg', '.jpeg', '.bmp', '.tiff')):\n",
    "        img = Image.open(os.path.join(folder_path, filename))\n",
    "        text = pytesseract.image_to_string(img)\n",
    "        results.append(f\"Text from {filename}:\\n{text}\\n\")\n",
    "        results.sort(key=lambda x: int(''.join(filter(str.isdigit, x.split()[2]))) if x.split()[2][0].lower() == 'q' and x.split()[2][1].isdigit() else 9999)\n",
    "with open(output_file, 'w', encoding='utf-8') as f:\n",
    "    f.writelines(results)"
   ]
  },
  {
   "cell_type": "code",
   "execution_count": null,
   "id": "aa0995dd",
   "metadata": {},
   "outputs": [],
   "source": []
  }
 ],
 "metadata": {
  "kernelspec": {
   "display_name": "venv",
   "language": "python",
   "name": "python3"
  },
  "language_info": {
   "codemirror_mode": {
    "name": "ipython",
    "version": 3
   },
   "file_extension": ".py",
   "mimetype": "text/x-python",
   "name": "python",
   "nbconvert_exporter": "python",
   "pygments_lexer": "ipython3",
   "version": "3.11.0"
  }
 },
 "nbformat": 4,
 "nbformat_minor": 5
}
